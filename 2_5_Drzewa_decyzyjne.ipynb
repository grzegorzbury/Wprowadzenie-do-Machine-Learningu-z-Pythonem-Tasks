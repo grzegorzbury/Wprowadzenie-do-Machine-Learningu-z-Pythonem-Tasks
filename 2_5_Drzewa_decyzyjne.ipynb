{
  "nbformat": 4,
  "nbformat_minor": 0,
  "metadata": {
    "colab": {
      "provenance": [],
      "authorship_tag": "ABX9TyPg4aHZwKVUtHQ1Rzqhp2gx",
      "include_colab_link": true
    },
    "kernelspec": {
      "name": "python3",
      "display_name": "Python 3"
    },
    "language_info": {
      "name": "python"
    },
    "accelerator": "TPU",
    "gpuClass": "standard"
  },
  "cells": [
    {
      "cell_type": "markdown",
      "metadata": {
        "id": "view-in-github",
        "colab_type": "text"
      },
      "source": [
        "<a href=\"https://colab.research.google.com/github/grzegorzbury/Wprowadzenie-do-Machine-Learningu-z-Pythonem-Tasks/blob/main/2_5_Drzewa_decyzyjne.ipynb\" target=\"_parent\"><img src=\"https://colab.research.google.com/assets/colab-badge.svg\" alt=\"Open In Colab\"/></a>"
      ]
    },
    {
      "cell_type": "code",
      "execution_count": 8,
      "metadata": {
        "colab": {
          "base_uri": "https://localhost:8080/"
        },
        "id": "m5fh9dkxV2XP",
        "outputId": "f70d27e4-5369-4d91-9f06-4b64af3cdff1"
      },
      "outputs": [
        {
          "output_type": "execute_result",
          "data": {
            "text/plain": [
              "DecisionTreeClassifier(max_depth=3, random_state=2)"
            ]
          },
          "metadata": {},
          "execution_count": 8
        }
      ],
      "source": [
        "from sklearn.datasets import load_iris\n",
        "from sklearn.tree import DecisionTreeClassifier\n",
        "\n",
        "# ładujemy dane, dla uproszczenia używamy tylko 2 cech\n",
        "X, y = load_iris(return_X_y=True)\n",
        "X = X[:, 0:2]\n",
        "\n",
        "# tworzymy klasyfikator drzewa decyzyjnego\n",
        "# random_state jest ustawione, aby z każdym\n",
        "# uruchomieniem programu uzyskiwać takie same wyniki\n",
        "\n",
        "tree_clf = DecisionTreeClassifier(max_depth = 3, random_state=2)\n",
        "\n",
        "tree_clf.fit(X, y)"
      ]
    },
    {
      "cell_type": "code",
      "source": [
        "iris = load_iris()\n",
        "print(iris.feature_names[2:])\n",
        "# narzędzie do zapisywania struktury drzewa do pliku\n",
        "from sklearn.tree import export_graphviz\n",
        "\n",
        "# zapisywanie do pliku\n",
        "export_graphviz(\n",
        "    tree_clf,\n",
        "    out_file='nasze_drzewo.dot',          # gdzie zapisać\n",
        "    feature_names=iris.feature_names[2:], # jakie nazwy features, cech dodać\n",
        "    class_names=iris.target_names,        # nazwy klas jakie chcemy przewidywać\n",
        "    rounded=True,                         # dodatkowe parametry odpowiadające za wygląd\n",
        "    filled=True\n",
        ")\n",
        "\n",
        "# teraz mamy drzewo zapisane w formacie .dot GraphViz\n",
        "# aby zamienić je na plik png, należy albo w konsoli,\n",
        "# albo w Google Colab/Jupyter Notebook wpisać polecenie\n",
        "\n",
        "! dot -Tpng nasze_drzewo.dot -o nasze_drzewo.png\n",
        "\n",
        "# pomijamy \"!\" na początku, kiedy używamy konsoli"
      ],
      "metadata": {
        "colab": {
          "base_uri": "https://localhost:8080/"
        },
        "id": "SW3gSMM1YP4Y",
        "outputId": "a597f9ed-dbbf-4ac5-dd82-ebe3b24592af"
      },
      "execution_count": 9,
      "outputs": [
        {
          "output_type": "stream",
          "name": "stdout",
          "text": [
            "['petal length (cm)', 'petal width (cm)']\n"
          ]
        }
      ]
    },
    {
      "cell_type": "code",
      "source": [
        "from sklearn.tree import DecisionTreeClassifier\n",
        "from sklearn.datasets import load_iris\n",
        "from sklearn.model_selection import train_test_split\n",
        "\n",
        "# bierzemy wszystkie dane z Iris dataset\n",
        "iris_data = load_iris()\n",
        "\n",
        "X = iris_data.data\n",
        "y = iris_data.target\n",
        "\n",
        "X_train, X_test, y_train, y_test = train_test_split(X, y, test_size=0.2, random_state=100)\n",
        "\n",
        "# tworzymy klasyfikator drzewa decyzyjnego z ograniczoną głębokością\n",
        "tree_clf = DecisionTreeClassifier(max_depth = 3, random_state=2)\n",
        "\n",
        "tree_clf.fit(X_train, y_train)\n",
        "print(\"score danych treningowych z ograniczeniem\", tree_clf.score(X_train, y_train))\n",
        "print(\"score danych testowych z ograniczeniem\", tree_clf.score(X_test, y_test))\n",
        "\n",
        "# tworzymy klasyfikator drzewa decyzyjnego bez ograniczonej głębokości\n",
        "tree_clf = DecisionTreeClassifier(random_state=42)\n",
        "\n",
        "tree_clf.fit(X_train, y_train)\n",
        "print(\"score danych treningowych bez ograniczeń\", tree_clf.score(X_train, y_train))\n",
        "print(\"score danych testowych bez ograniczeń\", tree_clf.score(X_test, y_test))"
      ],
      "metadata": {
        "colab": {
          "base_uri": "https://localhost:8080/"
        },
        "id": "BP9lKXuQYXQD",
        "outputId": "b4602e0d-b43a-4035-c8b2-793e5d1751e1"
      },
      "execution_count": 10,
      "outputs": [
        {
          "output_type": "stream",
          "name": "stdout",
          "text": [
            "score danych treningowych z ograniczeniem 0.9833333333333333\n",
            "score danych testowych z ograniczeniem 0.9666666666666667\n",
            "score danych treningowych bez ograniczeń 1.0\n",
            "score danych testowych bez ograniczeń 0.9666666666666667\n"
          ]
        }
      ]
    },
    {
      "cell_type": "code",
      "source": [
        "from sklearn.datasets import fetch_openml\n",
        "\n",
        "def load_mnist_data():\n",
        "\t\"\"\"\n",
        "    \tZwraca:\n",
        "        \tX - dane\n",
        "        \ty - target labels\n",
        "        \ttarget_names - nazwy poszczególnych klas\n",
        "\t\"\"\"\n",
        "\tmnist_data = fetch_openml('mnist_784', version=1)\n",
        "\tprint(\"keys of data dictionary: \", mnist_data.keys())\n",
        "\n",
        "\tX, y = mnist_data['data'], mnist_data['target']\n",
        "\n",
        "\treturn X, y #, mnist_data.target_names\n",
        "\n",
        "X, y = load_mnist_data()"
      ],
      "metadata": {
        "colab": {
          "base_uri": "https://localhost:8080/"
        },
        "id": "QtF4prrBgFNO",
        "outputId": "8e243d05-ded3-4792-d008-725689822255"
      },
      "execution_count": 11,
      "outputs": [
        {
          "output_type": "stream",
          "name": "stdout",
          "text": [
            "keys of data dictionary:  dict_keys(['data', 'target', 'frame', 'categories', 'feature_names', 'target_names', 'DESCR', 'details', 'url'])\n"
          ]
        }
      ]
    },
    {
      "cell_type": "code",
      "source": [
        "from sklearn.model_selection import train_test_split\n",
        "from sklearn.tree import DecisionTreeClassifier\n",
        "from sklearn.tree import DecisionTreeRegressor\n",
        "X_train, X_test, y_train, y_test = train_test_split(X, y, test_size=0.2, random_state=100)\n",
        "\n",
        "tree_clf = DecisionTreeClassifier(max_depth = 3, random_state=2)\n",
        "\n",
        "tree_clf.fit(X_train, y_train)\n",
        "print(\"score danych treningowych z ograniczeniem\", tree_clf.score(X_train, y_train))\n",
        "print(\"score danych testowych z ograniczeniem\", tree_clf.score(X_test, y_test))"
      ],
      "metadata": {
        "colab": {
          "base_uri": "https://localhost:8080/"
        },
        "id": "puaLT9QbMsu0",
        "outputId": "e08794cd-fbbb-4c62-90ab-49dea83a0d7e"
      },
      "execution_count": 12,
      "outputs": [
        {
          "output_type": "stream",
          "name": "stdout",
          "text": [
            "score danych treningowych z ograniczeniem 0.45803571428571427\n",
            "score danych testowych z ograniczeniem 0.459\n"
          ]
        }
      ]
    },
    {
      "cell_type": "code",
      "source": [
        "tree_clf = DecisionTreeRegressor(max_depth = 3, random_state=2)\n",
        "\n",
        "tree_clf.fit(X_train, y_train)\n",
        "print(\"score danych treningowych z ograniczeniem\", tree_clf.score(X_train, y_train))\n",
        "print(\"score danych testowych z ograniczeniem\", tree_clf.score(X_test, y_test))"
      ],
      "metadata": {
        "colab": {
          "base_uri": "https://localhost:8080/"
        },
        "id": "T8VvIS7BMt9C",
        "outputId": "33ac6c2d-debe-4568-c39d-c5d105269895"
      },
      "execution_count": 13,
      "outputs": [
        {
          "output_type": "stream",
          "name": "stdout",
          "text": [
            "score danych treningowych z ograniczeniem 0.4144051418518595\n",
            "score danych testowych z ograniczeniem 0.4135218872161459\n"
          ]
        }
      ]
    },
    {
      "cell_type": "code",
      "source": [
        "tree_clf = DecisionTreeClassifier(max_depth = 7, random_state=2)\n",
        "\n",
        "tree_clf.fit(X_train, y_train)\n",
        "print(\"score danych treningowych z ograniczeniem\", tree_clf.score(X_train, y_train))\n",
        "print(\"score danych testowych z ograniczeniem\", tree_clf.score(X_test, y_test))"
      ],
      "metadata": {
        "colab": {
          "base_uri": "https://localhost:8080/"
        },
        "id": "kxOw5346SfL1",
        "outputId": "f7c20851-c6ac-4626-9ebf-af6b87d38afd"
      },
      "execution_count": 16,
      "outputs": [
        {
          "output_type": "stream",
          "name": "stdout",
          "text": [
            "score danych treningowych z ograniczeniem 0.7902142857142858\n",
            "score danych testowych z ograniczeniem 0.7875\n"
          ]
        }
      ]
    },
    {
      "cell_type": "code",
      "source": [
        "tree_clf = DecisionTreeClassifier(max_depth = 9, random_state=2)\n",
        "\n",
        "tree_clf.fit(X_train, y_train)\n",
        "print(\"score danych treningowych z ograniczeniem\", tree_clf.score(X_train, y_train))\n",
        "print(\"score danych testowych z ograniczeniem\", tree_clf.score(X_test, y_test))"
      ],
      "metadata": {
        "colab": {
          "base_uri": "https://localhost:8080/"
        },
        "id": "V7nfY3NHkMCx",
        "outputId": "fb168fa2-956d-42f9-f627-f4b5e0bdbf64"
      },
      "execution_count": 18,
      "outputs": [
        {
          "output_type": "stream",
          "name": "stdout",
          "text": [
            "score danych treningowych z ograniczeniem 0.8715714285714286\n",
            "score danych testowych z ograniczeniem 0.8475714285714285\n"
          ]
        }
      ]
    },
    {
      "cell_type": "code",
      "source": [
        "tree_clf = DecisionTreeClassifier(max_depth = 11, random_state=2)\n",
        "\n",
        "tree_clf.fit(X_train, y_train)\n",
        "print(\"score danych treningowych z ograniczeniem\", tree_clf.score(X_train, y_train))\n",
        "print(\"score danych testowych z ograniczeniem\", tree_clf.score(X_test, y_test))"
      ],
      "metadata": {
        "colab": {
          "base_uri": "https://localhost:8080/"
        },
        "id": "3ISU4NCskaNp",
        "outputId": "51c1156f-9a0a-4d13-caf0-b2d0b61aef6f"
      },
      "execution_count": 19,
      "outputs": [
        {
          "output_type": "stream",
          "name": "stdout",
          "text": [
            "score danych treningowych z ograniczeniem 0.9260892857142857\n",
            "score danych testowych z ograniczeniem 0.8706428571428572\n"
          ]
        }
      ]
    },
    {
      "cell_type": "code",
      "source": [
        "tree_clf = DecisionTreeClassifier(max_depth = 13,\n",
        "                                  min_samples_split = 9,\n",
        "                                  min_samples_leaf = 11,\n",
        "                                  max_features = 120,\n",
        "                                  max_leaf_nodes = 300,\n",
        "                                  random_state=2)\n",
        "\n",
        "tree_clf.fit(X_train, y_train)\n",
        "print(\"score danych treningowych z ograniczeniem\", tree_clf.score(X_train, y_train))\n",
        "print(\"score danych testowych z ograniczeniem\", tree_clf.score(X_test, y_test))\n"
      ],
      "metadata": {
        "colab": {
          "base_uri": "https://localhost:8080/"
        },
        "id": "v2-avtX4lQE6",
        "outputId": "872de526-82d4-470c-f28a-964459c22444"
      },
      "execution_count": 41,
      "outputs": [
        {
          "output_type": "stream",
          "name": "stdout",
          "text": [
            "score danych treningowych z ograniczeniem 0.8413571428571428\n",
            "score danych testowych z ograniczeniem 0.8288571428571428\n"
          ]
        }
      ]
    },
    {
      "cell_type": "code",
      "source": [],
      "metadata": {
        "id": "-I91zBShl02h"
      },
      "execution_count": null,
      "outputs": []
    }
  ]
}