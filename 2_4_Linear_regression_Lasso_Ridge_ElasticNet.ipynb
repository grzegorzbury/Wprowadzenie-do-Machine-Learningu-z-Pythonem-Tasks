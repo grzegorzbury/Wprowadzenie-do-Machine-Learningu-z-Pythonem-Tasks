{
  "nbformat": 4,
  "nbformat_minor": 0,
  "metadata": {
    "colab": {
      "provenance": [],
      "authorship_tag": "ABX9TyP0jt7ooMwlb+Y6FpAiAq3i",
      "include_colab_link": true
    },
    "kernelspec": {
      "name": "python3",
      "display_name": "Python 3"
    },
    "language_info": {
      "name": "python"
    },
    "accelerator": "TPU",
    "gpuClass": "standard"
  },
  "cells": [
    {
      "cell_type": "markdown",
      "metadata": {
        "id": "view-in-github",
        "colab_type": "text"
      },
      "source": [
        "<a href=\"https://colab.research.google.com/github/grzegorzbury/Wprowadzenie-do-Machine-Learningu-z-Pythonem-Tasks/blob/main/2_4_Linear_regression_Lasso_Ridge_ElasticNet.ipynb\" target=\"_parent\"><img src=\"https://colab.research.google.com/assets/colab-badge.svg\" alt=\"Open In Colab\"/></a>"
      ]
    },
    {
      "cell_type": "markdown",
      "source": [
        "Porównaj klasyfikatory z tego rozdziału na zbiorze danych Iris."
      ],
      "metadata": {
        "id": "AoX8X-9XRt56"
      }
    },
    {
      "cell_type": "code",
      "execution_count": 10,
      "metadata": {
        "id": "2bCWqKWcPOvq",
        "colab": {
          "base_uri": "https://localhost:8080/"
        },
        "outputId": "62c16aeb-e8ea-4099-94b6-117350d66b45"
      },
      "outputs": [
        {
          "output_type": "stream",
          "name": "stdout",
          "text": [
            "score dla klasyfikatora LinearRegression() 0.9303939218549564\n",
            "score dla klasyfikatora Lasso() 0.4160928951980659\n",
            "score dla klasyfikatora Ridge() 0.9300877432471805\n",
            "score dla klasyfikatora ElasticNet() 0.7143621421298268\n"
          ]
        }
      ],
      "source": [
        "from sklearn.linear_model import LinearRegression\n",
        "from sklearn.linear_model import ElasticNet\n",
        "from sklearn.linear_model import Lasso\n",
        "from sklearn.linear_model import Ridge\n",
        "\n",
        "from sklearn.datasets import load_iris\n",
        "\n",
        "X, y = load_iris(return_X_y=True)\n",
        "\n",
        "clfs = [LinearRegression(), Lasso(), Ridge(),ElasticNet()]\n",
        "\n",
        "for clf in clfs:\n",
        "  clf.fit(X, y)\n",
        "\n",
        "  print(\"score dla klasyfikatora\", str(clf), clf.score(X ,y))\n"
      ]
    },
    {
      "cell_type": "code",
      "source": [
        "clfs = [LinearRegression(), Lasso(alpha=0.3), Ridge(alpha=0.3),ElasticNet(alpha=0.3, l1_ratio=0.3)]\n",
        "\n",
        "for clf in clfs:\n",
        "  clf.fit(X, y)\n",
        "\n",
        "  print(\"score dla klasyfikatora\", str(clf), clf.score(X ,y))\n"
      ],
      "metadata": {
        "id": "jZ6D2gy3Hg15",
        "colab": {
          "base_uri": "https://localhost:8080/"
        },
        "outputId": "f2fa6d13-3d2f-4c0b-91ec-cd4b6476001a"
      },
      "execution_count": 11,
      "outputs": [
        {
          "output_type": "stream",
          "name": "stdout",
          "text": [
            "score dla klasyfikatora LinearRegression() 0.9303939218549564\n",
            "score dla klasyfikatora Lasso(alpha=0.3) 0.8570552030967937\n",
            "score dla klasyfikatora Ridge(alpha=0.3) 0.9303585838785848\n",
            "score dla klasyfikatora ElasticNet(alpha=0.3, l1_ratio=0.3) 0.8889333324642539\n"
          ]
        }
      ]
    },
    {
      "cell_type": "code",
      "source": [
        "clfs = [LinearRegression(), Lasso(alpha=0.7), Ridge(alpha=0.7),ElasticNet(alpha=0.7, l1_ratio=0.7)]\n",
        "\n",
        "for clf in clfs:\n",
        "  clf.fit(X, y)\n",
        "\n",
        "  print(\"score dla klasyfikatora\", str(clf), clf.score(X ,y))"
      ],
      "metadata": {
        "id": "38JeaPZlH0Mc",
        "colab": {
          "base_uri": "https://localhost:8080/"
        },
        "outputId": "39ccde9d-b10b-441e-8bb6-f9690ad932a3"
      },
      "execution_count": 12,
      "outputs": [
        {
          "output_type": "stream",
          "name": "stdout",
          "text": [
            "score dla klasyfikatora LinearRegression() 0.9303939218549564\n",
            "score dla klasyfikatora Lasso(alpha=0.7) 0.663225617207243\n",
            "score dla klasyfikatora Ridge(alpha=0.7) 0.9302280150326446\n",
            "score dla klasyfikatora ElasticNet(alpha=0.7, l1_ratio=0.7) 0.7564809241161301\n"
          ]
        }
      ]
    },
    {
      "cell_type": "code",
      "source": [
        "clfs = [LinearRegression(), Lasso(alpha=0.5), Ridge(alpha=0.5),ElasticNet(alpha=0.5, l1_ratio=0.7)]\n",
        "\n",
        "for clf in clfs:\n",
        "  clf.fit(X, y)\n",
        "\n",
        "  print(\"score dla klasyfikatora\", str(clf), clf.score(X ,y))"
      ],
      "metadata": {
        "id": "jfwfbAE0I0Bw",
        "colab": {
          "base_uri": "https://localhost:8080/"
        },
        "outputId": "85841020-f52c-4aaf-8168-c069df3ede01"
      },
      "execution_count": 13,
      "outputs": [
        {
          "output_type": "stream",
          "name": "stdout",
          "text": [
            "score dla klasyfikatora LinearRegression() 0.9303939218549564\n",
            "score dla klasyfikatora Lasso(alpha=0.5) 0.7795233687409735\n",
            "score dla klasyfikatora Ridge(alpha=0.5) 0.9303029673862013\n",
            "score dla klasyfikatora ElasticNet(alpha=0.5, l1_ratio=0.7) 0.8243574821687948\n"
          ]
        }
      ]
    },
    {
      "cell_type": "code",
      "source": [
        "clfs = [LinearRegression(), Lasso(alpha=0), Ridge(alpha=0),ElasticNet(alpha=0.1, l1_ratio=0.7)]\n",
        "\n",
        "for clf in clfs:\n",
        "  clf.fit(X, y)\n",
        "\n",
        "  print(\"score dla klasyfikatora\", str(clf), clf.score(X ,y))"
      ],
      "metadata": {
        "colab": {
          "base_uri": "https://localhost:8080/"
        },
        "id": "dMfV3VusiHVK",
        "outputId": "f61f799d-f5be-46a2-ba4b-490d7b497dc4"
      },
      "execution_count": 15,
      "outputs": [
        {
          "output_type": "stream",
          "name": "stdout",
          "text": [
            "score dla klasyfikatora LinearRegression() 0.9303939218549564\n",
            "score dla klasyfikatora Lasso(alpha=0) 0.9303939218549564\n",
            "score dla klasyfikatora Ridge(alpha=0) 0.9303939218549564\n",
            "score dla klasyfikatora ElasticNet(alpha=0.1, l1_ratio=0.7) 0.8973756006423016\n"
          ]
        },
        {
          "output_type": "stream",
          "name": "stderr",
          "text": [
            "<ipython-input-15-a21915630233>:4: UserWarning: With alpha=0, this algorithm does not converge well. You are advised to use the LinearRegression estimator\n",
            "  clf.fit(X, y)\n",
            "/usr/local/lib/python3.8/dist-packages/sklearn/linear_model/_coordinate_descent.py:647: UserWarning: Coordinate descent with no regularization may lead to unexpected results and is discouraged.\n",
            "  model = cd_fast.enet_coordinate_descent(\n",
            "/usr/local/lib/python3.8/dist-packages/sklearn/linear_model/_coordinate_descent.py:647: ConvergenceWarning: Objective did not converge. You might want to increase the number of iterations, check the scale of the features or consider increasing regularisation. Duality gap: 3.480e+00, tolerance: 1.000e-02 Linear regression models with null weight for the l1 regularization term are more efficiently fitted using one of the solvers implemented in sklearn.linear_model.Ridge/RidgeCV instead.\n",
            "  model = cd_fast.enet_coordinate_descent(\n"
          ]
        }
      ]
    },
    {
      "cell_type": "code",
      "source": [
        "from sklearn.datasets import fetch_openml\n",
        "\n",
        "def load_mnist_data():\n",
        "\t\"\"\"\n",
        "    \tZwraca:\n",
        "        \tX - dane\n",
        "        \ty - target labels\n",
        "        \ttarget_names - nazwy poszczególnych klas\n",
        "\t\"\"\"\n",
        "\tmnist_data = fetch_openml('mnist_784', version=1)\n",
        "\tprint(\"keys of data dictionary: \", mnist_data.keys())\n",
        "\n",
        "\tX, y = mnist_data['data'], mnist_data['target']\n",
        "\n",
        "\treturn X, y #, mnist_data.target_names\n",
        "\n",
        "X, y = load_mnist_data()"
      ],
      "metadata": {
        "id": "_cgIvprxQWK6",
        "colab": {
          "base_uri": "https://localhost:8080/"
        },
        "outputId": "fa3fa145-dcca-4741-d0b1-c1cfcf922c49"
      },
      "execution_count": 5,
      "outputs": [
        {
          "output_type": "stream",
          "name": "stdout",
          "text": [
            "keys of data dictionary:  dict_keys(['data', 'target', 'frame', 'categories', 'feature_names', 'target_names', 'DESCR', 'details', 'url'])\n"
          ]
        }
      ]
    },
    {
      "cell_type": "code",
      "source": [
        "for clf in clfs:\n",
        "  clf.fit(X, y)\n",
        "\n",
        "  print(\"score dla klasyfikatora\", str(clf), clf.score(X ,y))"
      ],
      "metadata": {
        "id": "ZyJJGfnJRuwf",
        "colab": {
          "base_uri": "https://localhost:8080/"
        },
        "outputId": "eca85c85-37a3-4960-bffb-5e026aad6e49"
      },
      "execution_count": 6,
      "outputs": [
        {
          "output_type": "stream",
          "name": "stdout",
          "text": [
            "score dla klasyfikatora LinearRegression() 0.6180350745545704\n",
            "score dla klasyfikatora Lasso(alpha=0.5) 0.6107635421559443\n",
            "score dla klasyfikatora Ridge(alpha=0.5) 0.6180407226988778\n",
            "score dla klasyfikatora ElasticNet(alpha=0.5, l1_ratio=0.7) 0.6126396274010395\n"
          ]
        }
      ]
    },
    {
      "cell_type": "code",
      "source": [
        "clfs = [LinearRegression(), Lasso(alpha=0.3), Ridge(alpha=0.3),ElasticNet(alpha=0.3, l1_ratio=0.3)]\n",
        "\n",
        "for clf in clfs:\n",
        "  clf.fit(X, y)\n",
        "\n",
        "  print(\"score dla klasyfikatora\", str(clf), clf.score(X ,y))\n"
      ],
      "metadata": {
        "id": "ZTqZFS5VUvqs",
        "colab": {
          "base_uri": "https://localhost:8080/"
        },
        "outputId": "1827e0ae-810a-401a-db32-fcc740e8d11b"
      },
      "execution_count": 7,
      "outputs": [
        {
          "output_type": "stream",
          "name": "stdout",
          "text": [
            "score dla klasyfikatora LinearRegression() 0.6180350745545704\n",
            "score dla klasyfikatora Lasso(alpha=0.3) 0.6133269184250718\n",
            "score dla klasyfikatora Ridge(alpha=0.3) 0.6180407283324886\n",
            "score dla klasyfikatora ElasticNet(alpha=0.3, l1_ratio=0.3) 0.6161065505700208\n"
          ]
        }
      ]
    },
    {
      "cell_type": "code",
      "source": [
        "clfs = [LinearRegression(), Lasso(alpha=0.7), Ridge(alpha=0.7),ElasticNet(alpha=0.7, l1_ratio=0.7)]\n",
        "\n",
        "for clf in clfs:\n",
        "  clf.fit(X, y)\n",
        "\n",
        "  print(\"score dla klasyfikatora\", str(clf), clf.score(X ,y))"
      ],
      "metadata": {
        "id": "clRGB90fJ0DO",
        "colab": {
          "base_uri": "https://localhost:8080/"
        },
        "outputId": "42136d30-62db-410f-8b26-a03ac37429db"
      },
      "execution_count": 8,
      "outputs": [
        {
          "output_type": "stream",
          "name": "stdout",
          "text": [
            "score dla klasyfikatora LinearRegression() 0.6180350745545704\n",
            "score dla klasyfikatora Lasso(alpha=0.7) 0.6080283687358081\n",
            "score dla klasyfikatora Ridge(alpha=0.7) 0.6180407144217186\n",
            "score dla klasyfikatora ElasticNet(alpha=0.7, l1_ratio=0.7) 0.6108896233829322\n"
          ]
        }
      ]
    },
    {
      "cell_type": "code",
      "source": [
        "clfs = [LinearRegression(), Lasso(alpha=0.5), Ridge(alpha=0.5),ElasticNet(alpha=0.5, l1_ratio=0.7)]\n",
        "\n",
        "for clf in clfs:\n",
        "  clf.fit(X, y)\n",
        "\n",
        "  print(\"score dla klasyfikatora\", str(clf), clf.score(X ,y))"
      ],
      "metadata": {
        "colab": {
          "base_uri": "https://localhost:8080/"
        },
        "id": "GYCVSkr6LonW",
        "outputId": "9143420e-b6f2-4a03-8346-0237c1a047e1"
      },
      "execution_count": 9,
      "outputs": [
        {
          "output_type": "stream",
          "name": "stdout",
          "text": [
            "score dla klasyfikatora LinearRegression() 0.6180350745545704\n",
            "score dla klasyfikatora Lasso(alpha=0.5) 0.6107635421559443\n",
            "score dla klasyfikatora Ridge(alpha=0.5) 0.6180407226988778\n",
            "score dla klasyfikatora ElasticNet(alpha=0.5, l1_ratio=0.7) 0.6126396274010395\n"
          ]
        }
      ]
    },
    {
      "cell_type": "code",
      "source": [],
      "metadata": {
        "id": "CvGrr0AoMMNS"
      },
      "execution_count": null,
      "outputs": []
    }
  ]
}