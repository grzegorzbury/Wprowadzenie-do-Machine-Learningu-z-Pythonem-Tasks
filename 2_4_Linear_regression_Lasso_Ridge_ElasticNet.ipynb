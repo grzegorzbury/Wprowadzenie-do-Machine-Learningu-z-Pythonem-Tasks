{
  "nbformat": 4,
  "nbformat_minor": 0,
  "metadata": {
    "colab": {
      "provenance": [],
      "authorship_tag": "ABX9TyM0U9jKbqhGiODWFTje5QG+",
      "include_colab_link": true
    },
    "kernelspec": {
      "name": "python3",
      "display_name": "Python 3"
    },
    "language_info": {
      "name": "python"
    },
    "accelerator": "TPU",
    "gpuClass": "standard"
  },
  "cells": [
    {
      "cell_type": "markdown",
      "metadata": {
        "id": "view-in-github",
        "colab_type": "text"
      },
      "source": [
        "<a href=\"https://colab.research.google.com/github/grzegorzbury/Wprowadzenie-do-Machine-Learningu-z-Pythonem-Tasks/blob/main/2_4_Linear_regression_Lasso_Ridge_ElasticNet.ipynb\" target=\"_parent\"><img src=\"https://colab.research.google.com/assets/colab-badge.svg\" alt=\"Open In Colab\"/></a>"
      ]
    },
    {
      "cell_type": "markdown",
      "source": [
        "Porównaj klasyfikatory z tego rozdziału na zbiorze danych Iris."
      ],
      "metadata": {
        "id": "AoX8X-9XRt56"
      }
    },
    {
      "cell_type": "code",
      "execution_count": 2,
      "metadata": {
        "colab": {
          "base_uri": "https://localhost:8080/"
        },
        "id": "2bCWqKWcPOvq",
        "outputId": "cf1eeeba-b96b-4d0a-fb4c-855972a0de77"
      },
      "outputs": [
        {
          "output_type": "stream",
          "name": "stdout",
          "text": [
            "score dla klasyfikatora LinearRegression() 0.9303939218549564\n",
            "score dla klasyfikatora Lasso() 0.4160928951980659\n",
            "score dla klasyfikatora Ridge() 0.9300877432471805\n",
            "score dla klasyfikatora ElasticNet() 0.7143621421298268\n"
          ]
        }
      ],
      "source": [
        "from sklearn.linear_model import LinearRegression\n",
        "from sklearn.linear_model import ElasticNet\n",
        "from sklearn.linear_model import Lasso\n",
        "from sklearn.linear_model import Ridge\n",
        "\n",
        "from sklearn.datasets import load_iris\n",
        "\n",
        "X, y = load_iris(return_X_y=True)\n",
        "\n",
        "clfs = [LinearRegression(), Lasso(), Ridge(),ElasticNet()]\n",
        "\n",
        "for clf in clfs:\n",
        "  clf.fit(X, y)\n",
        "\n",
        "  print(\"score dla klasyfikatora\", str(clf), clf.score(X ,y))\n"
      ]
    },
    {
      "cell_type": "code",
      "source": [
        "from sklearn.datasets import fetch_openml\n",
        "\n",
        "def load_mnist_data():\n",
        "\t\"\"\"\n",
        "    \tZwraca:\n",
        "        \tX - dane\n",
        "        \ty - target labels\n",
        "        \ttarget_names - nazwy poszczególnych klas\n",
        "\t\"\"\"\n",
        "\tmnist_data = fetch_openml('mnist_784', version=1)\n",
        "\tprint(\"keys of data dictionary: \", mnist_data.keys())\n",
        "\n",
        "\tX, y = mnist_data['data'], mnist_data['target']\n",
        "\n",
        "\treturn X, y #, mnist_data.target_names\n",
        "\n",
        "X, y = load_mnist_data()"
      ],
      "metadata": {
        "colab": {
          "base_uri": "https://localhost:8080/"
        },
        "id": "_cgIvprxQWK6",
        "outputId": "a760d9d3-917b-4f1c-d0fb-930a50d8107e"
      },
      "execution_count": 5,
      "outputs": [
        {
          "output_type": "stream",
          "name": "stdout",
          "text": [
            "keys of data dictionary:  dict_keys(['data', 'target', 'frame', 'categories', 'feature_names', 'target_names', 'DESCR', 'details', 'url'])\n"
          ]
        }
      ]
    },
    {
      "cell_type": "code",
      "source": [
        "for clf in clfs:\n",
        "  clf.fit(X, y)\n",
        "\n",
        "  print(\"score dla klasyfikatora\", str(clf), clf.score(X ,y))"
      ],
      "metadata": {
        "colab": {
          "base_uri": "https://localhost:8080/"
        },
        "id": "ZyJJGfnJRuwf",
        "outputId": "da99a24e-9591-45d3-fb6d-4972bd8220d7"
      },
      "execution_count": 6,
      "outputs": [
        {
          "output_type": "stream",
          "name": "stdout",
          "text": [
            "score dla klasyfikatora LinearRegression() 0.6180350745545704\n",
            "score dla klasyfikatora Lasso() 0.6037452447683005\n",
            "score dla klasyfikatora Ridge() 0.6180406972896175\n",
            "score dla klasyfikatora ElasticNet() 0.6107571520946575\n"
          ]
        }
      ]
    },
    {
      "cell_type": "code",
      "source": [],
      "metadata": {
        "id": "ZTqZFS5VUvqs"
      },
      "execution_count": null,
      "outputs": []
    }
  ]
}